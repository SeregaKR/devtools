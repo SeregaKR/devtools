{
 "cells": [
  {
   "cell_type": "markdown",
   "metadata": {},
   "source": [
    "## Run this notebook to set up joommf developer install"
   ]
  },
  {
   "cell_type": "markdown",
   "metadata": {},
   "source": [
    "We assume we are in the directory of the `joommf-dev` repository.\n",
    "\n",
    "If not, this can be cloned from with\n",
    "\n"
   ]
  },
  {
   "cell_type": "code",
   "execution_count": 1,
   "metadata": {
    "collapsed": true
   },
   "outputs": [],
   "source": [
    "# !git clone git@github.com:joommf/devtools.git"
   ]
  },
  {
   "cell_type": "code",
   "execution_count": 2,
   "metadata": {
    "collapsed": false
   },
   "outputs": [
    {
     "name": "stdout",
     "output_type": "stream",
     "text": [
      "/Users/fangohr/git/joommf-dev/devtools\r\n"
     ]
    }
   ],
   "source": [
    "!pwd"
   ]
  },
  {
   "cell_type": "markdown",
   "metadata": {},
   "source": [
    "## Create the right conda environment"
   ]
  },
  {
   "cell_type": "code",
   "execution_count": 24,
   "metadata": {
    "collapsed": false
   },
   "outputs": [
    {
     "name": "stdout",
     "output_type": "stream",
     "text": [
      "\r\n",
      "Package plan for package removal in environment /Users/fangohr/anaconda3/envs/joommf-dev:\r\n",
      "\r\n",
      "The following packages will be REMOVED:\r\n",
      "\r\n",
      "    backports:                     1.0-py36_1                    conda-forge\r\n",
      "    backports.functools_lru_cache: 1.4-py36_1                    conda-forge\r\n",
      "    blas:                          1.1-openblas                  conda-forge\r\n",
      "    ca-certificates:               2017.7.27.1-0                 conda-forge\r\n",
      "    certifi:                       2017.7.27.1-py36_0            conda-forge\r\n",
      "    coverage:                      4.4.1-py36_0                  conda-forge\r\n",
      "    cycler:                        0.10.0-py36_0                 conda-forge\r\n",
      "    freetype:                      2.7-1                         conda-forge\r\n",
      "    libgfortran:                   3.0.0-0                       conda-forge\r\n",
      "    libpng:                        1.6.28-1                      conda-forge\r\n",
      "    matplotlib:                    2.1.0-py36_0                  conda-forge\r\n",
      "    ncurses:                       5.9-10                        conda-forge\r\n",
      "    numpy:                         1.13.3-py36_blas_openblas_200 conda-forge [blas_openblas]\r\n",
      "    oommf:                         1.2b0_20160930b1-1            conda-forge\r\n",
      "    openblas:                      0.2.19-2                      conda-forge\r\n",
      "    openssl:                       1.0.2l-0                      conda-forge\r\n",
      "    pip:                           9.0.1-py36_0                  conda-forge\r\n",
      "    py:                            1.4.34-py36_0                 conda-forge\r\n",
      "    pyparsing:                     2.2.0-py36_0                  conda-forge\r\n",
      "    pytest:                        3.2.3-py36_0                  conda-forge\r\n",
      "    pytest-cov:                    2.5.1-py36_0                  conda-forge\r\n",
      "    python:                        3.6.3-0                       conda-forge\r\n",
      "    python-dateutil:               2.6.1-py36_0                  conda-forge\r\n",
      "    pytz:                          2017.2-py36_0                 conda-forge\r\n",
      "    readline:                      6.2-0                         conda-forge\r\n",
      "    sarge:                         0.1.4-py36_0                  conda-forge\r\n",
      "    setuptools:                    36.6.0-py36_1                 conda-forge\r\n",
      "    six:                           1.11.0-py36_1                 conda-forge\r\n",
      "    sqlite:                        3.13.0-1                      conda-forge\r\n",
      "    tk:                            8.5.19-2                      conda-forge\r\n",
      "    tornado:                       4.5.2-py36_0                  conda-forge\r\n",
      "    wheel:                         0.30.0-py_1                   conda-forge\r\n",
      "    xz:                            5.2.3-0                       conda-forge\r\n",
      "    zlib:                          1.2.8-3                       conda-forge\r\n",
      "\r\n"
     ]
    }
   ],
   "source": [
    "# if you already have a \"joommf-dev\" environment, you may want to delete it using\n",
    "!conda remove -y -n joommf-dev --all"
   ]
  },
  {
   "cell_type": "markdown",
   "metadata": {},
   "source": [
    "Create conda environment with dependencies we need, in particular OOMMF itself:"
   ]
  },
  {
   "cell_type": "code",
   "execution_count": 28,
   "metadata": {
    "collapsed": false
   },
   "outputs": [
    {
     "name": "stdout",
     "output_type": "stream",
     "text": [
      "Fetching package metadata ...........\n",
      "Solving package specifications: .\n",
      "\n",
      "Package plan for installation in environment /Users/fangohr/anaconda3/envs/joommf-dev:\n",
      "\n",
      "The following NEW packages will be INSTALLED:\n",
      "\n",
      "    appnope:                       0.1.0-py36_0                  conda-forge\n",
      "    backports:                     1.0-py36_1                    conda-forge\n",
      "    backports.functools_lru_cache: 1.4-py36_1                    conda-forge\n",
      "    blas:                          1.1-openblas                  conda-forge\n",
      "    bleach:                        2.0.0-py36_0                  conda-forge\n",
      "    ca-certificates:               2017.7.27.1-0                 conda-forge\n",
      "    certifi:                       2017.7.27.1-py36_0            conda-forge\n",
      "    coverage:                      4.4.1-py36_0                  conda-forge\n",
      "    cycler:                        0.10.0-py36_0                 conda-forge\n",
      "    decorator:                     4.1.2-py36_0                  conda-forge\n",
      "    entrypoints:                   0.2.3-py36_1                  conda-forge\n",
      "    freetype:                      2.7-1                         conda-forge\n",
      "    html5lib:                      0.999999999-py36_0            conda-forge\n",
      "    ipykernel:                     4.6.1-py36_0                  conda-forge\n",
      "    ipython:                       6.2.1-py36_0                  conda-forge\n",
      "    ipython_genutils:              0.2.0-py36_0                  conda-forge\n",
      "    jedi:                          0.10.2-py36_0                 conda-forge\n",
      "    jinja2:                        2.9.6-py36_0                  conda-forge\n",
      "    jsonschema:                    2.6.0-py36_0                  conda-forge\n",
      "    jupyter_client:                5.1.0-py36_0                  conda-forge\n",
      "    jupyter_core:                  4.3.0-py36_0                  conda-forge\n",
      "    libgfortran:                   3.0.0-0                       conda-forge\n",
      "    libpng:                        1.6.28-1                      conda-forge\n",
      "    libsodium:                     1.0.10-0                      conda-forge\n",
      "    markupsafe:                    1.0-py36_0                    conda-forge\n",
      "    matplotlib:                    2.1.0-py36_0                  conda-forge\n",
      "    mistune:                       0.7.4-py36_0                  conda-forge\n",
      "    nbconvert:                     5.3.1-py_1                    conda-forge\n",
      "    nbformat:                      4.4.0-py36_0                  conda-forge\n",
      "    ncurses:                       5.9-10                        conda-forge\n",
      "    notebook:                      5.2.0-py36_0                  conda-forge\n",
      "    numpy:                         1.13.3-py36_blas_openblas_200 conda-forge [blas_openblas]\n",
      "    oommf:                         1.2b0_20160930b1-1            conda-forge\n",
      "    openblas:                      0.2.19-2                      conda-forge\n",
      "    openssl:                       1.0.2l-0                      conda-forge\n",
      "    pandoc:                        1.19.2-0                      conda-forge\n",
      "    pandocfilters:                 1.4.1-py36_0                  conda-forge\n",
      "    pexpect:                       4.2.1-py36_0                  conda-forge\n",
      "    pickleshare:                   0.7.4-py36_0                  conda-forge\n",
      "    pip:                           9.0.1-py36_0                  conda-forge\n",
      "    prompt_toolkit:                1.0.15-py36_0                 conda-forge\n",
      "    ptyprocess:                    0.5.2-py36_0                  conda-forge\n",
      "    py:                            1.4.34-py36_0                 conda-forge\n",
      "    pygments:                      2.2.0-py36_0                  conda-forge\n",
      "    pyparsing:                     2.2.0-py36_0                  conda-forge\n",
      "    pytest:                        3.2.3-py36_0                  conda-forge\n",
      "    pytest-cov:                    2.5.1-py36_0                  conda-forge\n",
      "    python:                        3.6.3-0                       conda-forge\n",
      "    python-dateutil:               2.6.1-py36_0                  conda-forge\n",
      "    pytz:                          2017.2-py36_0                 conda-forge\n",
      "    pyzmq:                         16.0.2-py36_2                 conda-forge\n",
      "    readline:                      6.2-0                         conda-forge\n",
      "    sarge:                         0.1.4-py36_0                  conda-forge\n",
      "    setuptools:                    36.6.0-py36_1                 conda-forge\n",
      "    simplegeneric:                 0.8.1-py36_0                  conda-forge\n",
      "    six:                           1.11.0-py36_1                 conda-forge\n",
      "    sqlite:                        3.13.0-1                      conda-forge\n",
      "    terminado:                     0.6-py36_0                    conda-forge\n",
      "    testpath:                      0.3.1-py36_0                  conda-forge\n",
      "    tk:                            8.5.19-2                      conda-forge\n",
      "    tornado:                       4.5.2-py36_0                  conda-forge\n",
      "    traitlets:                     4.3.2-py36_0                  conda-forge\n",
      "    wcwidth:                       0.1.7-py36_0                  conda-forge\n",
      "    webencodings:                  0.5-py36_0                    conda-forge\n",
      "    wheel:                         0.30.0-py_1                   conda-forge\n",
      "    xz:                            5.2.3-0                       conda-forge\n",
      "    zeromq:                        4.2.1-1                       conda-forge\n",
      "    zlib:                          1.2.8-3                       conda-forge\n",
      "\n",
      "jsonschema-2.6 100% |################################| Time: 0:00:00 266.58 kB/s\n",
      "testpath-0.3.1 100% |################################| Time: 0:00:00 266.81 kB/s\n",
      "html5lib-0.999 100% |################################| Time: 0:00:00 435.93 kB/s\n",
      "bleach-2.0.0-p 100% |################################| Time: 0:00:00   5.81 MB/s\n",
      "jinja2-2.9.6-p 100% |################################| Time: 0:00:00 512.98 kB/s\n",
      "nbformat-4.4.0 100% |################################| Time: 0:00:00 208.55 kB/s\n",
      "nbconvert-5.3. 100% |################################| Time: 0:00:00 543.99 kB/s\n",
      "notebook-5.2.0 100% |################################| Time: 0:00:12 567.54 kB/s\n",
      "#\n",
      "# To activate this environment, use:\n",
      "# > source activate joommf-dev\n",
      "#\n",
      "# To deactivate an active environment, use:\n",
      "# > source deactivate\n",
      "#\n",
      "\n"
     ]
    }
   ],
   "source": [
    "!conda create -y -n joommf-dev -c conda-forge numpy matplotlib pytest \\\n",
    " pytest-cov sarge oommf ipython notebook"
   ]
  },
  {
   "cell_type": "code",
   "execution_count": 3,
   "metadata": {
    "collapsed": false
   },
   "outputs": [
    {
     "name": "stdout",
     "output_type": "stream",
     "text": [
      "/Users/fangohr/git/joommf-dev/devtools\r\n"
     ]
    }
   ],
   "source": [
    "!pwd"
   ]
  },
  {
   "cell_type": "markdown",
   "metadata": {
    "collapsed": true
   },
   "source": [
    "## Create subdirectory and clone all repos into that"
   ]
  },
  {
   "cell_type": "code",
   "execution_count": 4,
   "metadata": {
    "collapsed": true
   },
   "outputs": [],
   "source": [
    "!mkdir repos"
   ]
  },
  {
   "cell_type": "code",
   "execution_count": 5,
   "metadata": {
    "collapsed": false
   },
   "outputs": [
    {
     "name": "stdout",
     "output_type": "stream",
     "text": [
      "/Users/fangohr/git/joommf-dev/devtools/repos\n"
     ]
    }
   ],
   "source": [
    "cd repos"
   ]
  },
  {
   "cell_type": "code",
   "execution_count": 6,
   "metadata": {
    "collapsed": false
   },
   "outputs": [
    {
     "name": "stdout",
     "output_type": "stream",
     "text": [
      "Cloning into 'oommfc'...\n",
      "remote: Counting objects: 2844, done.\u001b[K\n",
      "remote: Total 2844 (delta 0), reused 0 (delta 0), pack-reused 2844\u001b[K\n",
      "Receiving objects: 100% (2844/2844), 12.44 MiB | 1.77 MiB/s, done.\n",
      "Resolving deltas: 100% (1966/1966), done.\n",
      "Cloning into 'joommfutil'...\n",
      "remote: Counting objects: 243, done.\u001b[K\n",
      "remote: Total 243 (delta 0), reused 0 (delta 0), pack-reused 243\u001b[K\n",
      "Receiving objects: 100% (243/243), 29.68 KiB | 264.00 KiB/s, done.\n",
      "Resolving deltas: 100% (119/119), done.\n",
      "Cloning into 'discretisedfield'...\n",
      "remote: Counting objects: 2157, done.\u001b[K\n",
      "remote: Compressing objects: 100% (20/20), done.\u001b[K\n",
      "remote: Total 2157 (delta 12), reused 24 (delta 9), pack-reused 2128\u001b[K\n",
      "Receiving objects: 100% (2157/2157), 4.22 MiB | 630.00 KiB/s, done.\n",
      "Resolving deltas: 100% (1451/1451), done.\n",
      "Cloning into 'micromagneticmodel'...\n",
      "remote: Counting objects: 1700, done.\u001b[K\n",
      "remote: Total 1700 (delta 0), reused 0 (delta 0), pack-reused 1700\u001b[K\n",
      "Receiving objects: 100% (1700/1700), 660.23 KiB | 499.00 KiB/s, done.\n",
      "Resolving deltas: 100% (1197/1197), done.\n",
      "Cloning into 'oommfodt'...\n",
      "remote: Counting objects: 375, done.\u001b[K\n",
      "remote: Total 375 (delta 0), reused 0 (delta 0), pack-reused 375\u001b[K\n",
      "Receiving objects: 100% (375/375), 120.26 KiB | 519.00 KiB/s, done.\n",
      "Resolving deltas: 100% (206/206), done.\n",
      "Cloning into 'oommfdata'...\n",
      "remote: Counting objects: 45, done.\u001b[K\n",
      "remote: Total 45 (delta 0), reused 0 (delta 0), pack-reused 45\u001b[K\n",
      "Receiving objects: 100% (45/45), 127.50 KiB | 524.00 KiB/s, done.\n",
      "Resolving deltas: 100% (13/13), done.\n",
      "Cloning into 'joommf'...\n",
      "remote: Counting objects: 32, done.\u001b[K\n",
      "remote: Total 32 (delta 0), reused 0 (delta 0), pack-reused 32\u001b[K\n",
      "Receiving objects: 100% (32/32), 6.61 KiB | 6.61 MiB/s, done.\n",
      "Resolving deltas: 100% (9/9), done.\n",
      "~/git/joommf-dev/devtools/repos/joommfutil ~/git/joommf-dev/devtools/repos\n",
      "Obtaining file:///Users/fangohr/git/joommf-dev/devtools/repos/joommfutil\n",
      "Requirement already satisfied: numpy in /Users/fangohr/anaconda3/envs/joommf-dev/lib/python3.6/site-packages (from joommfutil==0.7.4)\n",
      "Installing collected packages: joommfutil\n",
      "  Running setup.py develop for joommfutil\n",
      "Successfully installed joommfutil\n",
      "~/git/joommf-dev/devtools/repos\n",
      "~/git/joommf-dev/devtools/repos/oommfodt ~/git/joommf-dev/devtools/repos\n",
      "Obtaining file:///Users/fangohr/git/joommf-dev/devtools/repos/oommfodt\n",
      "Collecting pandas (from oommfodt==0.7.4)\n",
      "  Using cached pandas-0.20.3-cp36-cp36m-macosx_10_12_x86_64.whl\n",
      "Collecting openpyxl (from oommfodt==0.7.4)\n",
      "  Downloading openpyxl-2.4.9.tar.gz (157kB)\n",
      "\u001b[K    100% |████████████████████████████████| 163kB 664kB/s \n",
      "\u001b[?25hCollecting xlrd (from oommfodt==0.7.4)\n",
      "  Using cached xlrd-1.1.0-py2.py3-none-any.whl\n",
      "Collecting xlwt (from oommfodt==0.7.4)\n",
      "  Using cached xlwt-1.3.0-py2.py3-none-any.whl\n",
      "Requirement already satisfied: python-dateutil>=2 in /Users/fangohr/anaconda3/envs/joommf-dev/lib/python3.6/site-packages (from pandas->oommfodt==0.7.4)\n",
      "Requirement already satisfied: numpy>=1.7.0 in /Users/fangohr/anaconda3/envs/joommf-dev/lib/python3.6/site-packages (from pandas->oommfodt==0.7.4)\n",
      "Requirement already satisfied: pytz>=2011k in /Users/fangohr/anaconda3/envs/joommf-dev/lib/python3.6/site-packages (from pandas->oommfodt==0.7.4)\n",
      "Collecting jdcal (from openpyxl->oommfodt==0.7.4)\n",
      "Collecting et_xmlfile (from openpyxl->oommfodt==0.7.4)\n",
      "Requirement already satisfied: six>=1.5 in /Users/fangohr/anaconda3/envs/joommf-dev/lib/python3.6/site-packages (from python-dateutil>=2->pandas->oommfodt==0.7.4)\n",
      "Building wheels for collected packages: openpyxl\n",
      "  Running setup.py bdist_wheel for openpyxl ... \u001b[?25l-\b \b\\\b \b|\b \bdone\n",
      "\u001b[?25h  Stored in directory: /Users/fangohr/Library/Caches/pip/wheels/8d/ae/96/0b8e7890053c46c22b48d021d104b00e5544c3aedd641749e1\n",
      "Successfully built openpyxl\n",
      "Installing collected packages: pandas, jdcal, et-xmlfile, openpyxl, xlrd, xlwt, oommfodt\n",
      "  Running setup.py develop for oommfodt\n",
      "Successfully installed et-xmlfile-1.0.1 jdcal-1.3 oommfodt openpyxl-2.4.9 pandas-0.20.3 xlrd-1.1.0 xlwt-1.3.0\n",
      "~/git/joommf-dev/devtools/repos\n",
      "~/git/joommf-dev/devtools/repos/discretisedfield ~/git/joommf-dev/devtools/repos\n",
      "Obtaining file:///Users/fangohr/git/joommf-dev/devtools/repos/discretisedfield\n",
      "Collecting hypothesis (from discretisedfield==0.7.4)\n",
      "  Using cached hypothesis-3.33.0-py3-none-any.whl\n",
      "Requirement already satisfied: joommfutil in /Users/fangohr/git/joommf-dev/devtools/repos/joommfutil (from discretisedfield==0.7.4)\n",
      "Requirement already satisfied: matplotlib in /Users/fangohr/anaconda3/envs/joommf-dev/lib/python3.6/site-packages (from discretisedfield==0.7.4)\n",
      "Requirement already satisfied: pytest in /Users/fangohr/anaconda3/envs/joommf-dev/lib/python3.6/site-packages (from discretisedfield==0.7.4)\n",
      "Collecting pyvtk (from discretisedfield==0.7.4)\n",
      "Collecting attrs (from hypothesis->discretisedfield==0.7.4)\n",
      "  Using cached attrs-17.2.0-py2.py3-none-any.whl\n",
      "Requirement already satisfied: coverage in /Users/fangohr/anaconda3/envs/joommf-dev/lib/python3.6/site-packages (from hypothesis->discretisedfield==0.7.4)\n",
      "Requirement already satisfied: numpy in /Users/fangohr/anaconda3/envs/joommf-dev/lib/python3.6/site-packages (from joommfutil->discretisedfield==0.7.4)\n",
      "Requirement already satisfied: six>=1.10 in /Users/fangohr/anaconda3/envs/joommf-dev/lib/python3.6/site-packages (from matplotlib->discretisedfield==0.7.4)\n",
      "Requirement already satisfied: python-dateutil>=2.0 in /Users/fangohr/anaconda3/envs/joommf-dev/lib/python3.6/site-packages (from matplotlib->discretisedfield==0.7.4)\n",
      "Requirement already satisfied: pytz in /Users/fangohr/anaconda3/envs/joommf-dev/lib/python3.6/site-packages (from matplotlib->discretisedfield==0.7.4)\n",
      "Requirement already satisfied: cycler>=0.10 in /Users/fangohr/anaconda3/envs/joommf-dev/lib/python3.6/site-packages/cycler-0.10.0-py3.6.egg (from matplotlib->discretisedfield==0.7.4)\n",
      "Requirement already satisfied: pyparsing!=2.0.4,!=2.1.2,!=2.1.6,>=2.0.1 in /Users/fangohr/anaconda3/envs/joommf-dev/lib/python3.6/site-packages (from matplotlib->discretisedfield==0.7.4)\n",
      "Requirement already satisfied: py>=1.4.33 in /Users/fangohr/anaconda3/envs/joommf-dev/lib/python3.6/site-packages (from pytest->discretisedfield==0.7.4)\n",
      "Requirement already satisfied: setuptools in /Users/fangohr/anaconda3/envs/joommf-dev/lib/python3.6/site-packages (from pytest->discretisedfield==0.7.4)\n",
      "Installing collected packages: attrs, hypothesis, pyvtk, discretisedfield\n",
      "  Running setup.py develop for discretisedfield\n",
      "Successfully installed attrs-17.2.0 discretisedfield hypothesis-3.33.0 pyvtk-0.5.18\n",
      "~/git/joommf-dev/devtools/repos\n",
      "~/git/joommf-dev/devtools/repos/micromagneticmodel ~/git/joommf-dev/devtools/repos\n",
      "Obtaining file:///Users/fangohr/git/joommf-dev/devtools/repos/micromagneticmodel\n",
      "Requirement already satisfied: discretisedfield in /Users/fangohr/git/joommf-dev/devtools/repos/discretisedfield (from micromagneticmodel==0.7.4)\n",
      "Requirement already satisfied: hypothesis in /Users/fangohr/anaconda3/envs/joommf-dev/lib/python3.6/site-packages (from discretisedfield->micromagneticmodel==0.7.4)\n",
      "Requirement already satisfied: joommfutil in /Users/fangohr/git/joommf-dev/devtools/repos/joommfutil (from discretisedfield->micromagneticmodel==0.7.4)\n",
      "Requirement already satisfied: matplotlib in /Users/fangohr/anaconda3/envs/joommf-dev/lib/python3.6/site-packages (from discretisedfield->micromagneticmodel==0.7.4)\n",
      "Requirement already satisfied: pytest in /Users/fangohr/anaconda3/envs/joommf-dev/lib/python3.6/site-packages (from discretisedfield->micromagneticmodel==0.7.4)\n",
      "Requirement already satisfied: pyvtk in /Users/fangohr/anaconda3/envs/joommf-dev/lib/python3.6/site-packages (from discretisedfield->micromagneticmodel==0.7.4)\n",
      "Requirement already satisfied: attrs in /Users/fangohr/anaconda3/envs/joommf-dev/lib/python3.6/site-packages (from hypothesis->discretisedfield->micromagneticmodel==0.7.4)\n",
      "Requirement already satisfied: coverage in /Users/fangohr/anaconda3/envs/joommf-dev/lib/python3.6/site-packages (from hypothesis->discretisedfield->micromagneticmodel==0.7.4)\n",
      "Requirement already satisfied: numpy in /Users/fangohr/anaconda3/envs/joommf-dev/lib/python3.6/site-packages (from joommfutil->discretisedfield->micromagneticmodel==0.7.4)\n",
      "Requirement already satisfied: six>=1.10 in /Users/fangohr/anaconda3/envs/joommf-dev/lib/python3.6/site-packages (from matplotlib->discretisedfield->micromagneticmodel==0.7.4)\n",
      "Requirement already satisfied: python-dateutil>=2.0 in /Users/fangohr/anaconda3/envs/joommf-dev/lib/python3.6/site-packages (from matplotlib->discretisedfield->micromagneticmodel==0.7.4)\n",
      "Requirement already satisfied: pytz in /Users/fangohr/anaconda3/envs/joommf-dev/lib/python3.6/site-packages (from matplotlib->discretisedfield->micromagneticmodel==0.7.4)\n",
      "Requirement already satisfied: cycler>=0.10 in /Users/fangohr/anaconda3/envs/joommf-dev/lib/python3.6/site-packages/cycler-0.10.0-py3.6.egg (from matplotlib->discretisedfield->micromagneticmodel==0.7.4)\n",
      "Requirement already satisfied: pyparsing!=2.0.4,!=2.1.2,!=2.1.6,>=2.0.1 in /Users/fangohr/anaconda3/envs/joommf-dev/lib/python3.6/site-packages (from matplotlib->discretisedfield->micromagneticmodel==0.7.4)\n",
      "Requirement already satisfied: py>=1.4.33 in /Users/fangohr/anaconda3/envs/joommf-dev/lib/python3.6/site-packages (from pytest->discretisedfield->micromagneticmodel==0.7.4)\n",
      "Requirement already satisfied: setuptools in /Users/fangohr/anaconda3/envs/joommf-dev/lib/python3.6/site-packages (from pytest->discretisedfield->micromagneticmodel==0.7.4)\n",
      "Installing collected packages: micromagneticmodel\n",
      "  Running setup.py develop for micromagneticmodel\n",
      "Successfully installed micromagneticmodel\n",
      "~/git/joommf-dev/devtools/repos\n",
      "~/git/joommf-dev/devtools/repos/oommfc ~/git/joommf-dev/devtools/repos\n",
      "Obtaining file:///Users/fangohr/git/joommf-dev/devtools/repos/oommfc\n",
      "Collecting scipy (from oommfc==0.7.6)\n",
      "  Using cached scipy-0.19.1-cp36-cp36m-macosx_10_6_intel.macosx_10_9_intel.macosx_10_9_x86_64.macosx_10_10_intel.macosx_10_10_x86_64.whl\n",
      "Requirement already satisfied: sarge in /Users/fangohr/anaconda3/envs/joommf-dev/lib/python3.6/site-packages (from oommfc==0.7.6)\n",
      "Requirement already satisfied: discretisedfield in /Users/fangohr/git/joommf-dev/devtools/repos/discretisedfield (from oommfc==0.7.6)\n",
      "Requirement already satisfied: micromagneticmodel in /Users/fangohr/git/joommf-dev/devtools/repos/micromagneticmodel (from oommfc==0.7.6)\n",
      "Requirement already satisfied: oommfodt in /Users/fangohr/git/joommf-dev/devtools/repos/oommfodt (from oommfc==0.7.6)\n",
      "Requirement already satisfied: numpy>=1.8.2 in /Users/fangohr/anaconda3/envs/joommf-dev/lib/python3.6/site-packages (from scipy->oommfc==0.7.6)\n",
      "Requirement already satisfied: hypothesis in /Users/fangohr/anaconda3/envs/joommf-dev/lib/python3.6/site-packages (from discretisedfield->oommfc==0.7.6)\n",
      "Requirement already satisfied: joommfutil in /Users/fangohr/git/joommf-dev/devtools/repos/joommfutil (from discretisedfield->oommfc==0.7.6)\n",
      "Requirement already satisfied: matplotlib in /Users/fangohr/anaconda3/envs/joommf-dev/lib/python3.6/site-packages (from discretisedfield->oommfc==0.7.6)\n",
      "Requirement already satisfied: pytest in /Users/fangohr/anaconda3/envs/joommf-dev/lib/python3.6/site-packages (from discretisedfield->oommfc==0.7.6)\n",
      "Requirement already satisfied: pyvtk in /Users/fangohr/anaconda3/envs/joommf-dev/lib/python3.6/site-packages (from discretisedfield->oommfc==0.7.6)\n",
      "Requirement already satisfied: pandas in /Users/fangohr/anaconda3/envs/joommf-dev/lib/python3.6/site-packages (from oommfodt->oommfc==0.7.6)\n",
      "Requirement already satisfied: openpyxl in /Users/fangohr/anaconda3/envs/joommf-dev/lib/python3.6/site-packages (from oommfodt->oommfc==0.7.6)\n",
      "Requirement already satisfied: xlrd in /Users/fangohr/anaconda3/envs/joommf-dev/lib/python3.6/site-packages (from oommfodt->oommfc==0.7.6)\n",
      "Requirement already satisfied: xlwt in /Users/fangohr/anaconda3/envs/joommf-dev/lib/python3.6/site-packages (from oommfodt->oommfc==0.7.6)\n",
      "Requirement already satisfied: coverage in /Users/fangohr/anaconda3/envs/joommf-dev/lib/python3.6/site-packages (from hypothesis->discretisedfield->oommfc==0.7.6)\n",
      "Requirement already satisfied: attrs in /Users/fangohr/anaconda3/envs/joommf-dev/lib/python3.6/site-packages (from hypothesis->discretisedfield->oommfc==0.7.6)\n",
      "Requirement already satisfied: six>=1.10 in /Users/fangohr/anaconda3/envs/joommf-dev/lib/python3.6/site-packages (from matplotlib->discretisedfield->oommfc==0.7.6)\n",
      "Requirement already satisfied: python-dateutil>=2.0 in /Users/fangohr/anaconda3/envs/joommf-dev/lib/python3.6/site-packages (from matplotlib->discretisedfield->oommfc==0.7.6)\n",
      "Requirement already satisfied: pytz in /Users/fangohr/anaconda3/envs/joommf-dev/lib/python3.6/site-packages (from matplotlib->discretisedfield->oommfc==0.7.6)\n",
      "Requirement already satisfied: cycler>=0.10 in /Users/fangohr/anaconda3/envs/joommf-dev/lib/python3.6/site-packages/cycler-0.10.0-py3.6.egg (from matplotlib->discretisedfield->oommfc==0.7.6)\n",
      "Requirement already satisfied: pyparsing!=2.0.4,!=2.1.2,!=2.1.6,>=2.0.1 in /Users/fangohr/anaconda3/envs/joommf-dev/lib/python3.6/site-packages (from matplotlib->discretisedfield->oommfc==0.7.6)\n",
      "Requirement already satisfied: py>=1.4.33 in /Users/fangohr/anaconda3/envs/joommf-dev/lib/python3.6/site-packages (from pytest->discretisedfield->oommfc==0.7.6)\n",
      "Requirement already satisfied: setuptools in /Users/fangohr/anaconda3/envs/joommf-dev/lib/python3.6/site-packages (from pytest->discretisedfield->oommfc==0.7.6)\n",
      "Requirement already satisfied: et-xmlfile in /Users/fangohr/anaconda3/envs/joommf-dev/lib/python3.6/site-packages (from openpyxl->oommfodt->oommfc==0.7.6)\n",
      "Requirement already satisfied: jdcal in /Users/fangohr/anaconda3/envs/joommf-dev/lib/python3.6/site-packages (from openpyxl->oommfodt->oommfc==0.7.6)\n",
      "Installing collected packages: scipy, oommfc\n",
      "  Running setup.py develop for oommfc\n",
      "Successfully installed oommfc scipy-0.19.1\n",
      "~/git/joommf-dev/devtools/repos\n",
      "~/git/joommf-dev/devtools/repos/oommfdata ~/git/joommf-dev/devtools/repos\n",
      "Obtaining file:///Users/fangohr/git/joommf-dev/devtools/repos/oommfdata\n",
      "Requirement already satisfied: discretisedfield in /Users/fangohr/git/joommf-dev/devtools/repos/discretisedfield (from oommfdata==0.1)\n",
      "Requirement already satisfied: oommfodt in /Users/fangohr/git/joommf-dev/devtools/repos/oommfodt (from oommfdata==0.1)\n",
      "Requirement already satisfied: hypothesis in /Users/fangohr/anaconda3/envs/joommf-dev/lib/python3.6/site-packages (from discretisedfield->oommfdata==0.1)\n",
      "Requirement already satisfied: joommfutil in /Users/fangohr/git/joommf-dev/devtools/repos/joommfutil (from discretisedfield->oommfdata==0.1)\n",
      "Requirement already satisfied: matplotlib in /Users/fangohr/anaconda3/envs/joommf-dev/lib/python3.6/site-packages (from discretisedfield->oommfdata==0.1)\n",
      "Requirement already satisfied: pytest in /Users/fangohr/anaconda3/envs/joommf-dev/lib/python3.6/site-packages (from discretisedfield->oommfdata==0.1)\n",
      "Requirement already satisfied: pyvtk in /Users/fangohr/anaconda3/envs/joommf-dev/lib/python3.6/site-packages (from discretisedfield->oommfdata==0.1)\n",
      "Requirement already satisfied: pandas in /Users/fangohr/anaconda3/envs/joommf-dev/lib/python3.6/site-packages (from oommfodt->oommfdata==0.1)\n",
      "Requirement already satisfied: openpyxl in /Users/fangohr/anaconda3/envs/joommf-dev/lib/python3.6/site-packages (from oommfodt->oommfdata==0.1)\n",
      "Requirement already satisfied: xlrd in /Users/fangohr/anaconda3/envs/joommf-dev/lib/python3.6/site-packages (from oommfodt->oommfdata==0.1)\n",
      "Requirement already satisfied: xlwt in /Users/fangohr/anaconda3/envs/joommf-dev/lib/python3.6/site-packages (from oommfodt->oommfdata==0.1)\n",
      "Requirement already satisfied: coverage in /Users/fangohr/anaconda3/envs/joommf-dev/lib/python3.6/site-packages (from hypothesis->discretisedfield->oommfdata==0.1)\n",
      "Requirement already satisfied: attrs in /Users/fangohr/anaconda3/envs/joommf-dev/lib/python3.6/site-packages (from hypothesis->discretisedfield->oommfdata==0.1)\n",
      "Requirement already satisfied: numpy in /Users/fangohr/anaconda3/envs/joommf-dev/lib/python3.6/site-packages (from joommfutil->discretisedfield->oommfdata==0.1)\n",
      "Requirement already satisfied: six>=1.10 in /Users/fangohr/anaconda3/envs/joommf-dev/lib/python3.6/site-packages (from matplotlib->discretisedfield->oommfdata==0.1)\n",
      "Requirement already satisfied: python-dateutil>=2.0 in /Users/fangohr/anaconda3/envs/joommf-dev/lib/python3.6/site-packages (from matplotlib->discretisedfield->oommfdata==0.1)\n",
      "Requirement already satisfied: pytz in /Users/fangohr/anaconda3/envs/joommf-dev/lib/python3.6/site-packages (from matplotlib->discretisedfield->oommfdata==0.1)\n",
      "Requirement already satisfied: cycler>=0.10 in /Users/fangohr/anaconda3/envs/joommf-dev/lib/python3.6/site-packages/cycler-0.10.0-py3.6.egg (from matplotlib->discretisedfield->oommfdata==0.1)\n",
      "Requirement already satisfied: pyparsing!=2.0.4,!=2.1.2,!=2.1.6,>=2.0.1 in /Users/fangohr/anaconda3/envs/joommf-dev/lib/python3.6/site-packages (from matplotlib->discretisedfield->oommfdata==0.1)\n",
      "Requirement already satisfied: py>=1.4.33 in /Users/fangohr/anaconda3/envs/joommf-dev/lib/python3.6/site-packages (from pytest->discretisedfield->oommfdata==0.1)\n",
      "Requirement already satisfied: setuptools in /Users/fangohr/anaconda3/envs/joommf-dev/lib/python3.6/site-packages (from pytest->discretisedfield->oommfdata==0.1)\n",
      "Requirement already satisfied: jdcal in /Users/fangohr/anaconda3/envs/joommf-dev/lib/python3.6/site-packages (from openpyxl->oommfodt->oommfdata==0.1)\n",
      "Requirement already satisfied: et-xmlfile in /Users/fangohr/anaconda3/envs/joommf-dev/lib/python3.6/site-packages (from openpyxl->oommfodt->oommfdata==0.1)\n",
      "Installing collected packages: oommfdata\n",
      "  Running setup.py develop for oommfdata\n",
      "Successfully installed oommfdata\n",
      "~/git/joommf-dev/devtools/repos\n",
      "~/git/joommf-dev/devtools/repos/joommf ~/git/joommf-dev/devtools/repos\n",
      "Obtaining file:///Users/fangohr/git/joommf-dev/devtools/repos/joommf\n",
      "Requirement already satisfied: oommfc in /Users/fangohr/git/joommf-dev/devtools/repos/oommfc (from joommf==0.2)\n",
      "Collecting jupyter (from joommf==0.2)\n",
      "  Using cached jupyter-1.0.0-py2.py3-none-any.whl\n",
      "Requirement already satisfied: pytest in /Users/fangohr/anaconda3/envs/joommf-dev/lib/python3.6/site-packages (from joommf==0.2)\n",
      "Requirement already satisfied: scipy in /Users/fangohr/anaconda3/envs/joommf-dev/lib/python3.6/site-packages (from oommfc->joommf==0.2)\n",
      "Requirement already satisfied: sarge in /Users/fangohr/anaconda3/envs/joommf-dev/lib/python3.6/site-packages (from oommfc->joommf==0.2)\n",
      "Requirement already satisfied: discretisedfield in /Users/fangohr/git/joommf-dev/devtools/repos/discretisedfield (from oommfc->joommf==0.2)\n",
      "Requirement already satisfied: micromagneticmodel in /Users/fangohr/git/joommf-dev/devtools/repos/micromagneticmodel (from oommfc->joommf==0.2)\n",
      "Requirement already satisfied: oommfodt in /Users/fangohr/git/joommf-dev/devtools/repos/oommfodt (from oommfc->joommf==0.2)\n",
      "Collecting qtconsole (from jupyter->joommf==0.2)\n",
      "  Using cached qtconsole-4.3.1-py2.py3-none-any.whl\n",
      "Requirement already satisfied: notebook in /Users/fangohr/anaconda3/envs/joommf-dev/lib/python3.6/site-packages (from jupyter->joommf==0.2)\n",
      "Collecting jupyter-console (from jupyter->joommf==0.2)\n",
      "  Using cached jupyter_console-5.2.0-py2.py3-none-any.whl\n",
      "Requirement already satisfied: ipykernel in /Users/fangohr/anaconda3/envs/joommf-dev/lib/python3.6/site-packages (from jupyter->joommf==0.2)\n",
      "Collecting ipywidgets (from jupyter->joommf==0.2)\n",
      "  Downloading ipywidgets-7.0.3-py2.py3-none-any.whl (68kB)\n",
      "\u001b[K    100% |████████████████████████████████| 71kB 1.3MB/s \n",
      "\u001b[?25hRequirement already satisfied: nbconvert in /Users/fangohr/anaconda3/envs/joommf-dev/lib/python3.6/site-packages (from jupyter->joommf==0.2)\n",
      "Requirement already satisfied: py>=1.4.33 in /Users/fangohr/anaconda3/envs/joommf-dev/lib/python3.6/site-packages (from pytest->joommf==0.2)\n",
      "Requirement already satisfied: setuptools in /Users/fangohr/anaconda3/envs/joommf-dev/lib/python3.6/site-packages (from pytest->joommf==0.2)\n",
      "Requirement already satisfied: numpy>=1.8.2 in /Users/fangohr/anaconda3/envs/joommf-dev/lib/python3.6/site-packages (from scipy->oommfc->joommf==0.2)\n",
      "Requirement already satisfied: hypothesis in /Users/fangohr/anaconda3/envs/joommf-dev/lib/python3.6/site-packages (from discretisedfield->oommfc->joommf==0.2)\n",
      "Requirement already satisfied: joommfutil in /Users/fangohr/git/joommf-dev/devtools/repos/joommfutil (from discretisedfield->oommfc->joommf==0.2)\n",
      "Requirement already satisfied: matplotlib in /Users/fangohr/anaconda3/envs/joommf-dev/lib/python3.6/site-packages (from discretisedfield->oommfc->joommf==0.2)\n",
      "Requirement already satisfied: pyvtk in /Users/fangohr/anaconda3/envs/joommf-dev/lib/python3.6/site-packages (from discretisedfield->oommfc->joommf==0.2)\n",
      "Requirement already satisfied: pandas in /Users/fangohr/anaconda3/envs/joommf-dev/lib/python3.6/site-packages (from oommfodt->oommfc->joommf==0.2)\n",
      "Requirement already satisfied: openpyxl in /Users/fangohr/anaconda3/envs/joommf-dev/lib/python3.6/site-packages (from oommfodt->oommfc->joommf==0.2)\n",
      "Requirement already satisfied: xlrd in /Users/fangohr/anaconda3/envs/joommf-dev/lib/python3.6/site-packages (from oommfodt->oommfc->joommf==0.2)\n",
      "Requirement already satisfied: xlwt in /Users/fangohr/anaconda3/envs/joommf-dev/lib/python3.6/site-packages (from oommfodt->oommfc->joommf==0.2)\n",
      "Requirement already satisfied: jupyter-core in /Users/fangohr/anaconda3/envs/joommf-dev/lib/python3.6/site-packages (from qtconsole->jupyter->joommf==0.2)\n",
      "Requirement already satisfied: pygments in /Users/fangohr/anaconda3/envs/joommf-dev/lib/python3.6/site-packages (from qtconsole->jupyter->joommf==0.2)\n",
      "Requirement already satisfied: ipython-genutils in /Users/fangohr/anaconda3/envs/joommf-dev/lib/python3.6/site-packages (from qtconsole->jupyter->joommf==0.2)\n",
      "Requirement already satisfied: traitlets in /Users/fangohr/anaconda3/envs/joommf-dev/lib/python3.6/site-packages (from qtconsole->jupyter->joommf==0.2)\n",
      "Requirement already satisfied: jupyter-client>=4.1 in /Users/fangohr/anaconda3/envs/joommf-dev/lib/python3.6/site-packages (from qtconsole->jupyter->joommf==0.2)\n",
      "Requirement already satisfied: tornado>=4 in /Users/fangohr/anaconda3/envs/joommf-dev/lib/python3.6/site-packages (from notebook->jupyter->joommf==0.2)\n",
      "Requirement already satisfied: jinja2 in /Users/fangohr/anaconda3/envs/joommf-dev/lib/python3.6/site-packages (from notebook->jupyter->joommf==0.2)\n",
      "Requirement already satisfied: terminado>=0.3.3; sys_platform != \"win32\" in /Users/fangohr/anaconda3/envs/joommf-dev/lib/python3.6/site-packages (from notebook->jupyter->joommf==0.2)\n",
      "Requirement already satisfied: nbformat in /Users/fangohr/anaconda3/envs/joommf-dev/lib/python3.6/site-packages (from notebook->jupyter->joommf==0.2)\n",
      "Requirement already satisfied: prompt-toolkit<2.0.0,>=1.0.0 in /Users/fangohr/anaconda3/envs/joommf-dev/lib/python3.6/site-packages (from jupyter-console->jupyter->joommf==0.2)\n",
      "Requirement already satisfied: ipython in /Users/fangohr/anaconda3/envs/joommf-dev/lib/python3.6/site-packages (from jupyter-console->jupyter->joommf==0.2)\n",
      "Collecting widgetsnbextension~=3.0.0 (from ipywidgets->jupyter->joommf==0.2)\n",
      "  Downloading widgetsnbextension-3.0.6-py2.py3-none-any.whl (2.5MB)\n",
      "\u001b[K    100% |████████████████████████████████| 2.5MB 177kB/s \n",
      "\u001b[?25hRequirement already satisfied: entrypoints>=0.2.2 in /Users/fangohr/anaconda3/envs/joommf-dev/lib/python3.6/site-packages (from nbconvert->jupyter->joommf==0.2)\n",
      "Requirement already satisfied: mistune>=0.7.4 in /Users/fangohr/anaconda3/envs/joommf-dev/lib/python3.6/site-packages (from nbconvert->jupyter->joommf==0.2)\n",
      "Requirement already satisfied: bleach in /Users/fangohr/anaconda3/envs/joommf-dev/lib/python3.6/site-packages (from nbconvert->jupyter->joommf==0.2)\n",
      "Requirement already satisfied: pandocfilters>=1.4.1 in /Users/fangohr/anaconda3/envs/joommf-dev/lib/python3.6/site-packages (from nbconvert->jupyter->joommf==0.2)\n",
      "Requirement already satisfied: testpath in /Users/fangohr/anaconda3/envs/joommf-dev/lib/python3.6/site-packages (from nbconvert->jupyter->joommf==0.2)\n",
      "Requirement already satisfied: coverage in /Users/fangohr/anaconda3/envs/joommf-dev/lib/python3.6/site-packages (from hypothesis->discretisedfield->oommfc->joommf==0.2)\n",
      "Requirement already satisfied: attrs in /Users/fangohr/anaconda3/envs/joommf-dev/lib/python3.6/site-packages (from hypothesis->discretisedfield->oommfc->joommf==0.2)\n",
      "Requirement already satisfied: six>=1.10 in /Users/fangohr/anaconda3/envs/joommf-dev/lib/python3.6/site-packages (from matplotlib->discretisedfield->oommfc->joommf==0.2)\n",
      "Requirement already satisfied: python-dateutil>=2.0 in /Users/fangohr/anaconda3/envs/joommf-dev/lib/python3.6/site-packages (from matplotlib->discretisedfield->oommfc->joommf==0.2)\n",
      "Requirement already satisfied: pytz in /Users/fangohr/anaconda3/envs/joommf-dev/lib/python3.6/site-packages (from matplotlib->discretisedfield->oommfc->joommf==0.2)\n",
      "Requirement already satisfied: cycler>=0.10 in /Users/fangohr/anaconda3/envs/joommf-dev/lib/python3.6/site-packages/cycler-0.10.0-py3.6.egg (from matplotlib->discretisedfield->oommfc->joommf==0.2)\n",
      "Requirement already satisfied: pyparsing!=2.0.4,!=2.1.2,!=2.1.6,>=2.0.1 in /Users/fangohr/anaconda3/envs/joommf-dev/lib/python3.6/site-packages (from matplotlib->discretisedfield->oommfc->joommf==0.2)\n",
      "Requirement already satisfied: jdcal in /Users/fangohr/anaconda3/envs/joommf-dev/lib/python3.6/site-packages (from openpyxl->oommfodt->oommfc->joommf==0.2)\n",
      "Requirement already satisfied: et-xmlfile in /Users/fangohr/anaconda3/envs/joommf-dev/lib/python3.6/site-packages (from openpyxl->oommfodt->oommfc->joommf==0.2)\n",
      "Requirement already satisfied: decorator in /Users/fangohr/anaconda3/envs/joommf-dev/lib/python3.6/site-packages (from traitlets->qtconsole->jupyter->joommf==0.2)\n",
      "Requirement already satisfied: pyzmq>=13 in /Users/fangohr/anaconda3/envs/joommf-dev/lib/python3.6/site-packages (from jupyter-client>=4.1->qtconsole->jupyter->joommf==0.2)\n",
      "Requirement already satisfied: MarkupSafe>=0.23 in /Users/fangohr/anaconda3/envs/joommf-dev/lib/python3.6/site-packages (from jinja2->notebook->jupyter->joommf==0.2)\n",
      "Requirement already satisfied: jsonschema!=2.5.0,>=2.4 in /Users/fangohr/anaconda3/envs/joommf-dev/lib/python3.6/site-packages (from nbformat->notebook->jupyter->joommf==0.2)\n",
      "Requirement already satisfied: wcwidth in /Users/fangohr/anaconda3/envs/joommf-dev/lib/python3.6/site-packages (from prompt-toolkit<2.0.0,>=1.0.0->jupyter-console->jupyter->joommf==0.2)\n",
      "Requirement already satisfied: simplegeneric>0.8 in /Users/fangohr/anaconda3/envs/joommf-dev/lib/python3.6/site-packages (from ipython->jupyter-console->jupyter->joommf==0.2)\n",
      "Requirement already satisfied: pickleshare in /Users/fangohr/anaconda3/envs/joommf-dev/lib/python3.6/site-packages (from ipython->jupyter-console->jupyter->joommf==0.2)\n",
      "Requirement already satisfied: appnope; sys_platform == \"darwin\" in /Users/fangohr/anaconda3/envs/joommf-dev/lib/python3.6/site-packages (from ipython->jupyter-console->jupyter->joommf==0.2)\n",
      "Requirement already satisfied: jedi>=0.10 in /Users/fangohr/anaconda3/envs/joommf-dev/lib/python3.6/site-packages (from ipython->jupyter-console->jupyter->joommf==0.2)\n",
      "Requirement already satisfied: pexpect; sys_platform != \"win32\" in /Users/fangohr/anaconda3/envs/joommf-dev/lib/python3.6/site-packages (from ipython->jupyter-console->jupyter->joommf==0.2)\n",
      "Requirement already satisfied: html5lib>=0.99999999 in /Users/fangohr/anaconda3/envs/joommf-dev/lib/python3.6/site-packages (from bleach->nbconvert->jupyter->joommf==0.2)\n",
      "Requirement already satisfied: webencodings in /Users/fangohr/anaconda3/envs/joommf-dev/lib/python3.6/site-packages (from html5lib>=0.99999999->bleach->nbconvert->jupyter->joommf==0.2)\n",
      "Installing collected packages: qtconsole, jupyter-console, widgetsnbextension, ipywidgets, jupyter, joommf\n",
      "  Running setup.py develop for joommf\n",
      "Successfully installed ipywidgets-7.0.3 joommf jupyter-1.0.0 jupyter-console-5.2.0 qtconsole-4.3.1 widgetsnbextension-3.0.6\n",
      "~/git/joommf-dev/devtools/repos\n"
     ]
    }
   ],
   "source": [
    "!source activate joommf-dev && sh ../clone-and-install-repos.sh"
   ]
  },
  {
   "cell_type": "code",
   "execution_count": 7,
   "metadata": {
    "collapsed": false
   },
   "outputs": [
    {
     "name": "stdout",
     "output_type": "stream",
     "text": [
      "# conda environments:\r\n",
      "#\r\n",
      "h5tools                  /Users/fangohr/anaconda3/envs/h5tools\r\n",
      "joommf                   /Users/fangohr/anaconda3/envs/joommf\r\n",
      "joommf-dev               /Users/fangohr/anaconda3/envs/joommf-dev\r\n",
      "magnics                  /Users/fangohr/anaconda3/envs/magnics\r\n",
      "nbval                    /Users/fangohr/anaconda3/envs/nbval\r\n",
      "p2                       /Users/fangohr/anaconda3/envs/p2\r\n",
      "py34                     /Users/fangohr/anaconda3/envs/py34\r\n",
      "py35                     /Users/fangohr/anaconda3/envs/py35\r\n",
      "py36                     /Users/fangohr/anaconda3/envs/py36\r\n",
      "silx                     /Users/fangohr/anaconda3/envs/silx\r\n",
      "test-silx                /Users/fangohr/anaconda3/envs/test-silx\r\n",
      "root                  *  /Users/fangohr/anaconda3\r\n",
      "\r\n"
     ]
    }
   ],
   "source": [
    "!conda env list"
   ]
  },
  {
   "cell_type": "code",
   "execution_count": 8,
   "metadata": {
    "collapsed": true
   },
   "outputs": [],
   "source": [
    "!source activate joommf-dev && python -c \"import joommf\"   "
   ]
  },
  {
   "cell_type": "markdown",
   "metadata": {},
   "source": [
    "Ideally, we would run `joommf.test()` here to check all works."
   ]
  },
  {
   "cell_type": "code",
   "execution_count": 9,
   "metadata": {
    "collapsed": false
   },
   "outputs": [
    {
     "name": "stdout",
     "output_type": "stream",
     "text": [
      "\u001b[1m============================= test session starts ==============================\u001b[0m\n",
      "platform darwin -- Python 3.6.3, pytest-3.2.3, py-1.4.34, pluggy-0.4.0 -- /Users/fangohr/anaconda3/envs/joommf-dev/bin/python\n",
      "cachedir: discretisedfield/.cache\n",
      "rootdir: /Users/fangohr/git/joommf-dev/devtools/repos/discretisedfield, inifile:\n",
      "plugins: cov-2.5.1, hypothesis-3.33.0\n",
      "collected 43 items                                                              \u001b[0m\n",
      "\n",
      "discretisedfield/discretisedfield/tests/test_field.py::TestField::test_init \u001b[32mPASSED\u001b[0m\n",
      "discretisedfield/discretisedfield/tests/test_field.py::TestField::test_wrong_init \u001b[32mPASSED\u001b[0m\n",
      "discretisedfield/discretisedfield/tests/test_field.py::TestField::test_repr \u001b[32mPASSED\u001b[0m\n",
      "discretisedfield/discretisedfield/tests/test_field.py::TestField::test_set_with_constant \u001b[32mPASSED\u001b[0m\n",
      "discretisedfield/discretisedfield/tests/test_field.py::TestField::test_set_with_tuple_list_ndarray \u001b[32mPASSED\u001b[0m\n",
      "discretisedfield/discretisedfield/tests/test_field.py::TestField::test_norm_is_not_preserved \u001b[32mPASSED\u001b[0m\n",
      "discretisedfield/discretisedfield/tests/test_field.py::TestField::test_set_with_ndarray \u001b[32mPASSED\u001b[0m\n",
      "discretisedfield/discretisedfield/tests/test_field.py::TestField::test_set_from_callable \u001b[32mPASSED\u001b[0m\n",
      "discretisedfield/discretisedfield/tests/test_field.py::TestField::test_set_exception \u001b[32mPASSED\u001b[0m\n",
      "discretisedfield/discretisedfield/tests/test_field.py::TestField::test_array \u001b[32mPASSED\u001b[0m\n",
      "discretisedfield/discretisedfield/tests/test_field.py::TestField::test_average_scalar_field \u001b[32mPASSED\u001b[0m\n",
      "discretisedfield/discretisedfield/tests/test_field.py::TestField::test_average_vector_field \u001b[32mPASSED\u001b[0m\n",
      "discretisedfield/discretisedfield/tests/test_field.py::TestField::test_norm_value \u001b[32mPASSED\u001b[0m\n",
      "discretisedfield/discretisedfield/tests/test_field.py::TestField::test_norm \u001b[32mPASSED\u001b[0m\n",
      "discretisedfield/discretisedfield/tests/test_field.py::TestField::test_value \u001b[32mPASSED\u001b[0m\n",
      "discretisedfield/discretisedfield/tests/test_field.py::TestField::test_normalise \u001b[32mPASSED\u001b[0m\n",
      "discretisedfield/discretisedfield/tests/test_field.py::TestField::test_normalise_scalar_field_exception \u001b[32mPASSED\u001b[0m\n",
      "discretisedfield/discretisedfield/tests/test_field.py::TestField::test_line \u001b[32mPASSED\u001b[0m\n",
      "discretisedfield/discretisedfield/tests/test_field.py::TestField::test_write_read_ovf_file_text \u001b[32mPASSED\u001b[0m\n",
      "discretisedfield/discretisedfield/tests/test_field.py::TestField::test_write_vector_norm_file \u001b[32mPASSED\u001b[0m\n",
      "discretisedfield/discretisedfield/tests/test_field.py::TestField::test_write_read_ovf_file_binary \u001b[32mPASSED\u001b[0m\n",
      "discretisedfield/discretisedfield/tests/test_issue001.py::test_matplotlib_warning \u001b[32mPASSED\u001b[0m\n",
      "discretisedfield/discretisedfield/tests/test_mesh.py::TestMesh::test_init \u001b[32mPASSED\u001b[0m\n",
      "discretisedfield/discretisedfield/tests/test_mesh.py::TestMesh::test_init_valid_args \u001b[32mPASSED\u001b[0m\n",
      "discretisedfield/discretisedfield/tests/test_mesh.py::TestMesh::test_init_invalid_args \u001b[32mPASSED\u001b[0m\n",
      "discretisedfield/discretisedfield/tests/test_mesh.py::TestMesh::test_init_invalid_name \u001b[32mPASSED\u001b[0m\n",
      "discretisedfield/discretisedfield/tests/test_mesh.py::TestMesh::test_zero_domain_edge_length \u001b[32mPASSED\u001b[0m\n",
      "discretisedfield/discretisedfield/tests/test_mesh.py::TestMesh::test_domain_not_aggregate_of_cell \u001b[32mPASSED\u001b[0m\n",
      "discretisedfield/discretisedfield/tests/test_mesh.py::TestMesh::test_cell_greater_than_domain \u001b[32mPASSED\u001b[0m\n",
      "discretisedfield/discretisedfield/tests/test_mesh.py::TestMesh::test_centre \u001b[32mPASSED\u001b[0m\n",
      "discretisedfield/discretisedfield/tests/test_mesh.py::TestMesh::test_random_point \u001b[32mPASSED\u001b[0m\n",
      "discretisedfield/discretisedfield/tests/test_mesh.py::TestMesh::test_repr \u001b[32mPASSED\u001b[0m\n",
      "discretisedfield/discretisedfield/tests/test_mesh.py::TestMesh::test_index2point \u001b[32mPASSED\u001b[0m\n",
      "discretisedfield/discretisedfield/tests/test_mesh.py::TestMesh::test_point2index \u001b[32mPASSED\u001b[0m\n",
      "discretisedfield/discretisedfield/tests/test_mesh.py::TestMesh::test_index2point_point2index_mutually_inverse \u001b[32mPASSED\u001b[0m\n",
      "discretisedfield/discretisedfield/tests/test_mesh.py::TestMesh::test_plot \u001b[32mPASSED\u001b[0m\n",
      "discretisedfield/discretisedfield/tests/test_mesh.py::TestMesh::test_indices \u001b[32mPASSED\u001b[0m\n",
      "discretisedfield/discretisedfield/tests/test_mesh.py::TestMesh::test_coordinates \u001b[32mPASSED\u001b[0m\n",
      "discretisedfield/discretisedfield/tests/test_mesh.py::TestMesh::test_line \u001b[32mPASSED\u001b[0m\n",
      "discretisedfield/discretisedfield/tests/test_mesh.py::TestMesh::test_plane \u001b[32mPASSED\u001b[0m\n",
      "discretisedfield/discretisedfield/tests/test_mesh.py::TestMesh::test_script \u001b[32mPASSED\u001b[0m\n",
      "discretisedfield/discretisedfield/tests/test_mesh.py::TestMesh::test_issue21 \u001b[32mPASSED\u001b[0m\n",
      "discretisedfield/discretisedfield/tests/test_mesh_new.py::test_mesh \u001b[32mPASSED\u001b[0m\n",
      "\n",
      "\u001b[32m\u001b[1m========================== 43 passed in 4.59 seconds ===========================\u001b[0m\n"
     ]
    }
   ],
   "source": [
    "!source activate joommf-dev && python -c \"import discretisedfield as d; d.test()\""
   ]
  },
  {
   "cell_type": "code",
   "execution_count": null,
   "metadata": {
    "collapsed": true
   },
   "outputs": [],
   "source": []
  }
 ],
 "metadata": {
  "anaconda-cloud": {},
  "kernelspec": {
   "display_name": "Python [default]",
   "language": "python",
   "name": "python3"
  },
  "language_info": {
   "codemirror_mode": {
    "name": "ipython",
    "version": 3
   },
   "file_extension": ".py",
   "mimetype": "text/x-python",
   "name": "python",
   "nbconvert_exporter": "python",
   "pygments_lexer": "ipython3",
   "version": "3.5.2"
  }
 },
 "nbformat": 4,
 "nbformat_minor": 1
}
