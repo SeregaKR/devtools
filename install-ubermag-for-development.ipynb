{
 "cells": [
  {
   "cell_type": "markdown",
   "metadata": {},
   "source": [
    "## Run this notebook to set up ubermag developer install"
   ]
  },
  {
   "cell_type": "markdown",
   "metadata": {},
   "source": [
    "We assume we are in the directory of the `ubermag/devtools` repository.\n",
    "\n",
    "If not, this can be cloned from with\n",
    "\n"
   ]
  },
  {
   "cell_type": "code",
   "execution_count": 3,
   "metadata": {},
   "outputs": [],
   "source": [
    "# !git clone git@github.com:ubermag/devtools.git ubermag-devtools"
   ]
  },
  {
   "cell_type": "code",
   "execution_count": 4,
   "metadata": {},
   "outputs": [
    {
     "name": "stdout",
     "output_type": "stream",
     "text": [
      "/Users/fangohr/git/ubermag-devtools\r\n"
     ]
    }
   ],
   "source": [
    "!pwd"
   ]
  },
  {
   "cell_type": "markdown",
   "metadata": {},
   "source": [
    "## Create the right conda environment"
   ]
  },
  {
   "cell_type": "code",
   "execution_count": null,
   "metadata": {
    "scrolled": false
   },
   "outputs": [],
   "source": [
    "# if you already have a \"ubermag-dev\" environment, you may want to delete it using\n",
    "!conda remove -y -n ubermag-dev --all"
   ]
  },
  {
   "cell_type": "markdown",
   "metadata": {},
   "source": [
    "Create conda environment with dependencies we need, in particular OOMMF itself:"
   ]
  },
  {
   "cell_type": "code",
   "execution_count": null,
   "metadata": {
    "scrolled": true
   },
   "outputs": [],
   "source": [
    "!conda create -y -n ubermag-dev -c conda-forge numpy matplotlib pytest \\\n",
    " pytest-cov sarge oommf ipython notebook"
   ]
  },
  {
   "cell_type": "code",
   "execution_count": 34,
   "metadata": {},
   "outputs": [
    {
     "name": "stdout",
     "output_type": "stream",
     "text": [
      "# conda environments:\n",
      "#\n",
      "cv37                     /Users/fangohr/.conda/envs/cv37\n",
      "cv38                     /Users/fangohr/.conda/envs/cv38\n",
      "                         /Users/fangohr/.pyenv/versions/anaconda3-2020.07\n",
      "base                  *  /Users/fangohr/.pyenv/versions/anaconda3-2020.11\n",
      "ubermag-dev              /Users/fangohr/.pyenv/versions/anaconda3-2020.11/envs/ubermag-dev\n",
      "ubermag-environment      /Users/fangohr/.pyenv/versions/anaconda3-2020.11/envs/ubermag-environment\n",
      "                         /Users/fangohr/anaconda3\n",
      "                         /Users/fangohr/anaconda3/envs/da-docs\n",
      "                         /Users/fangohr/anaconda3/envs/jupyterbook\n",
      "                         /Users/fangohr/anaconda3/envs/karabo\n",
      "                         /Users/fangohr/anaconda3/envs/oscovida\n",
      "                         /Users/fangohr/anaconda3/envs/oscovida2\n",
      "                         /Users/fangohr/anaconda3/envs/python2\n",
      "                         /Users/fangohr/anaconda3/envs/python=3.7\n",
      "                         /Users/fangohr/anaconda3/envs/repo2docker\n",
      "                         /Users/fangohr/anaconda3/envs/ubermag-environment\n",
      "                         /Users/fangohr/opt/anaconda3\n",
      "\n"
     ]
    }
   ],
   "source": [
    "!conda env list"
   ]
  },
  {
   "cell_type": "code",
   "execution_count": 35,
   "metadata": {},
   "outputs": [
    {
     "name": "stdout",
     "output_type": "stream",
     "text": [
      "\r\n",
      "CommandNotFoundError: Your shell has not been properly configured to use 'conda activate'.\r\n",
      "To initialize your shell, run\r\n",
      "\r\n",
      "    $ conda init <SHELL_NAME>\r\n",
      "\r\n",
      "Currently supported shells are:\r\n",
      "  - bash\r\n",
      "  - fish\r\n",
      "  - tcsh\r\n",
      "  - xonsh\r\n",
      "  - zsh\r\n",
      "  - powershell\r\n",
      "\r\n",
      "See 'conda init --help' for more information and options.\r\n",
      "\r\n",
      "IMPORTANT: You may need to close and restart your shell after running 'conda init'.\r\n",
      "\r\n",
      "\r\n"
     ]
    }
   ],
   "source": [
    "!conda activate ubermag-dev && conda env list"
   ]
  },
  {
   "cell_type": "markdown",
   "metadata": {},
   "source": [
    "The command above seems to fail because I use `pyenv` to create the anaconda environment. \n",
    "\n",
    "We can activate the conda environment using the following command (on this installation on OSX):"
   ]
  },
  {
   "cell_type": "code",
   "execution_count": 9,
   "metadata": {},
   "outputs": [
    {
     "name": "stdout",
     "output_type": "stream",
     "text": [
      "# conda environments:\r\n",
      "#\r\n",
      "cv37                     /Users/fangohr/.conda/envs/cv37\r\n",
      "cv38                     /Users/fangohr/.conda/envs/cv38\r\n",
      "                         /Users/fangohr/.pyenv/versions/anaconda3-2020.07\r\n",
      "base                     /Users/fangohr/.pyenv/versions/anaconda3-2020.11\r\n",
      "ubermag-dev           *  /Users/fangohr/.pyenv/versions/anaconda3-2020.11/envs/ubermag-dev\r\n",
      "ubermag-environment      /Users/fangohr/.pyenv/versions/anaconda3-2020.11/envs/ubermag-environment\r\n",
      "                         /Users/fangohr/anaconda3\r\n",
      "                         /Users/fangohr/anaconda3/envs/da-docs\r\n",
      "                         /Users/fangohr/anaconda3/envs/jupyterbook\r\n",
      "                         /Users/fangohr/anaconda3/envs/karabo\r\n",
      "                         /Users/fangohr/anaconda3/envs/oscovida\r\n",
      "                         /Users/fangohr/anaconda3/envs/oscovida2\r\n",
      "                         /Users/fangohr/anaconda3/envs/python2\r\n",
      "                         /Users/fangohr/anaconda3/envs/python=3.7\r\n",
      "                         /Users/fangohr/anaconda3/envs/repo2docker\r\n",
      "                         /Users/fangohr/anaconda3/envs/ubermag-environment\r\n",
      "                         /Users/fangohr/opt/anaconda3\r\n",
      "\r\n"
     ]
    }
   ],
   "source": [
    "!source /Users/fangohr/.pyenv/versions/anaconda3-2020.11/bin/activate ubermag-dev && conda env list"
   ]
  },
  {
   "cell_type": "markdown",
   "metadata": {},
   "source": [
    "Probably better is to select the environment through `pyenv`:"
   ]
  },
  {
   "cell_type": "code",
   "execution_count": 44,
   "metadata": {},
   "outputs": [
    {
     "name": "stdout",
     "output_type": "stream",
     "text": [
      "  system\r\n",
      "  2.7.18\r\n",
      "  3.10.0a5\r\n",
      "  3.5.10\r\n",
      "  3.6.13\r\n",
      "  3.7.9\r\n",
      "  3.9.0\r\n",
      "  3.9.0/envs/nbterm\r\n",
      "  3.9.0/envs/ssu-webpages\r\n",
      "  3.9.1\r\n",
      "  3.9.1/envs/ssu-docs\r\n",
      "  anaconda3-2020.07\r\n",
      "  anaconda3-2020.11\r\n",
      "  anaconda3-2020.11/envs/my-conda-env\r\n",
      "* anaconda3-2020.11/envs/ubermag-dev (set by /Users/fangohr/git/ubermag-devtools/repos/.python-version)\r\n",
      "  anaconda3-2020.11/envs/ubermag-environment\r\n",
      "  nbterm\r\n",
      "  ssu-docs\r\n",
      "  ssu-webpages\r\n"
     ]
    }
   ],
   "source": [
    "!pyenv versions "
   ]
  },
  {
   "cell_type": "markdown",
   "metadata": {},
   "source": [
    "Now tell pyenv to always use this `ubermag-dev` environment for the local folder:"
   ]
  },
  {
   "cell_type": "code",
   "execution_count": 38,
   "metadata": {},
   "outputs": [],
   "source": [
    "!pyenv local anaconda3-2020.11/envs/ubermag-dev"
   ]
  },
  {
   "cell_type": "code",
   "execution_count": 40,
   "metadata": {},
   "outputs": [
    {
     "name": "stdout",
     "output_type": "stream",
     "text": [
      "/Users/fangohr/.pyenv/versions/anaconda3-2020.11/envs/ubermag-dev/bin/python\r\n"
     ]
    }
   ],
   "source": [
    "!pyenv which python"
   ]
  },
  {
   "cell_type": "markdown",
   "metadata": {},
   "source": [
    "Put this into a command variable to avoid lots of typing:"
   ]
  },
  {
   "cell_type": "markdown",
   "metadata": {
    "collapsed": true
   },
   "source": [
    "## Create subdirectory and clone all repos into that"
   ]
  },
  {
   "cell_type": "code",
   "execution_count": 21,
   "metadata": {},
   "outputs": [],
   "source": [
    "!mkdir repos"
   ]
  },
  {
   "cell_type": "code",
   "execution_count": 19,
   "metadata": {},
   "outputs": [
    {
     "name": "stdout",
     "output_type": "stream",
     "text": [
      "/Users/fangohr/git/ubermag-devtools/repos\n"
     ]
    }
   ],
   "source": [
    "cd repos"
   ]
  },
  {
   "cell_type": "code",
   "execution_count": null,
   "metadata": {
    "scrolled": false
   },
   "outputs": [],
   "source": [
    "!sh ../clone-and-install-repos.sh"
   ]
  },
  {
   "cell_type": "code",
   "execution_count": 42,
   "metadata": {},
   "outputs": [],
   "source": [
    "!python -c \"import ubermag\"   "
   ]
  },
  {
   "cell_type": "markdown",
   "metadata": {},
   "source": [
    "Ideally, we would run `ubermag.test()` here to check all works."
   ]
  },
  {
   "cell_type": "markdown",
   "metadata": {},
   "source": [
    "Shorter test:"
   ]
  },
  {
   "cell_type": "code",
   "execution_count": null,
   "metadata": {
    "scrolled": true
   },
   "outputs": [],
   "source": [
    "!python -c \"import discretisedfield as d; d.test()\""
   ]
  },
  {
   "cell_type": "markdown",
   "metadata": {},
   "source": [
    "Comprehensive test"
   ]
  },
  {
   "cell_type": "code",
   "execution_count": null,
   "metadata": {
    "collapsed": true
   },
   "outputs": [],
   "source": [
    "!python -c \"import ubermag; ubermag.test()\""
   ]
  }
 ],
 "metadata": {
  "anaconda-cloud": {},
  "kernelspec": {
   "display_name": "Python 3",
   "language": "python",
   "name": "python3"
  },
  "language_info": {
   "codemirror_mode": {
    "name": "ipython",
    "version": 3
   },
   "file_extension": ".py",
   "mimetype": "text/x-python",
   "name": "python",
   "nbconvert_exporter": "python",
   "pygments_lexer": "ipython3",
   "version": "3.8.5"
  }
 },
 "nbformat": 4,
 "nbformat_minor": 1
}
