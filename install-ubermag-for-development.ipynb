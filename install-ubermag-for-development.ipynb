{
 "cells": [
  {
   "cell_type": "markdown",
   "metadata": {},
   "source": [
    "## Run this notebook to set up ubermag developer install"
   ]
  },
  {
   "cell_type": "markdown",
   "metadata": {},
   "source": [
    "We assume we are in the directory of the `ubermag/devtools` repository.\n",
    "\n",
    "If not, this can be cloned from with\n",
    "\n"
   ]
  },
  {
   "cell_type": "code",
   "execution_count": 1,
   "metadata": {},
   "outputs": [],
   "source": [
    "# !git clone git@github.com:ubermag/devtools.git"
   ]
  },
  {
   "cell_type": "code",
   "execution_count": 2,
   "metadata": {},
   "outputs": [
    {
     "name": "stdout",
     "output_type": "stream",
     "text": [
      "/Users/fangohr/git/ubermag-dev/devtools\r\n"
     ]
    }
   ],
   "source": [
    "!pwd"
   ]
  },
  {
   "cell_type": "markdown",
   "metadata": {},
   "source": [
    "## Create the right conda environment"
   ]
  },
  {
   "cell_type": "code",
   "execution_count": null,
   "metadata": {},
   "outputs": [],
   "source": [
    "# if you already have a \"joommf-dev\" environment, you may want to delete it using\n",
    "!conda remove -y -n joommf-dev --all"
   ]
  },
  {
   "cell_type": "markdown",
   "metadata": {},
   "source": [
    "Create conda environment with dependencies we need, in particular OOMMF itself:"
   ]
  },
  {
   "cell_type": "code",
   "execution_count": 2,
   "metadata": {
    "scrolled": false
   },
   "outputs": [
    {
     "name": "stdout",
     "output_type": "stream",
     "text": [
      "Collecting package metadata (current_repodata.json): done\n",
      "Solving environment: done\n",
      "\n",
      "\n",
      "==> WARNING: A newer version of conda exists. <==\n",
      "  current version: 4.10.0\n",
      "  latest version: 4.10.1\n",
      "\n",
      "Please update conda by running\n",
      "\n",
      "    $ conda update -n base conda\n",
      "\n",
      "\n",
      "\n",
      "## Package Plan ##\n",
      "\n",
      "  environment location: /Users/fangohr/.pyenv/versions/anaconda3-2020.11/envs/ubermag-dev\n",
      "\n",
      "  added / updated specs:\n",
      "    - ipython\n",
      "    - matplotlib\n",
      "    - notebook\n",
      "    - numpy\n",
      "    - oommf\n",
      "    - pytest\n",
      "    - pytest-cov\n",
      "    - sarge\n",
      "\n",
      "\n",
      "The following packages will be downloaded:\n",
      "\n",
      "    package                    |            build\n",
      "    ---------------------------|-----------------\n",
      "    appnope-0.1.2              |   py39h6e9494a_1          10 KB  conda-forge\n",
      "    argon2-cffi-20.1.0         |   py39hcbf5805_2          45 KB  conda-forge\n",
      "    attrs-21.2.0               |     pyhd8ed1ab_0          44 KB  conda-forge\n",
      "    backports.functools_lru_cache-1.6.4|     pyhd8ed1ab_0           9 KB  conda-forge\n",
      "    certifi-2020.12.5          |   py39h6e9494a_1         143 KB  conda-forge\n",
      "    cffi-1.14.5                |   py39h319c39b_0         219 KB  conda-forge\n",
      "    coverage-5.5               |   py39h89e85a6_0         257 KB  conda-forge\n",
      "    decorator-5.0.7            |     pyhd8ed1ab_0          11 KB  conda-forge\n",
      "    importlib-metadata-4.0.1   |   py39h6e9494a_0          30 KB  conda-forge\n",
      "    iniconfig-1.1.1            |     pyh9f0ad1d_0           8 KB  conda-forge\n",
      "    ipykernel-5.5.4            |   py39h71a6800_0         167 KB  conda-forge\n",
      "    ipython-7.23.1             |   py39h71a6800_0         1.1 MB  conda-forge\n",
      "    jedi-0.18.0                |   py39h6e9494a_2         932 KB  conda-forge\n",
      "    jupyter_core-4.7.1         |   py39h6e9494a_0          72 KB  conda-forge\n",
      "    kiwisolver-1.3.1           |   py39hedf5dff_1          59 KB  conda-forge\n",
      "    lcms2-2.12                 |       h577c468_0         404 KB  conda-forge\n",
      "    libblas-3.9.0              |       9_openblas          11 KB  conda-forge\n",
      "    libcblas-3.9.0             |       9_openblas          11 KB  conda-forge\n",
      "    libgfortran-5.0.0          |9_3_0_h6c81a4c_22          19 KB  conda-forge\n",
      "    libgfortran5-9.3.0         |      h6c81a4c_22         1.7 MB  conda-forge\n",
      "    liblapack-3.9.0            |       9_openblas          11 KB  conda-forge\n",
      "    libopenblas-0.3.15         |openmp_h5e1b9a4_0         8.7 MB  conda-forge\n",
      "    libtiff-4.2.0              |       h7c11950_1         623 KB  conda-forge\n",
      "    markupsafe-1.1.1           |   py39hcbf5805_3          25 KB  conda-forge\n",
      "    matplotlib-3.4.2           |   py39h6e9494a_0           7 KB  conda-forge\n",
      "    matplotlib-base-3.4.2      |   py39hb07454d_0         7.2 MB  conda-forge\n",
      "    matplotlib-inline-0.1.2    |     pyhd8ed1ab_2          11 KB  conda-forge\n",
      "    mistune-0.8.4              |py39hcbf5805_1003          54 KB  conda-forge\n",
      "    more-itertools-8.7.0       |     pyhd8ed1ab_1          39 KB  conda-forge\n",
      "    nbconvert-6.0.7            |   py39h6e9494a_3         530 KB  conda-forge\n",
      "    notebook-6.3.0             |     pyha770c72_1         6.1 MB  conda-forge\n",
      "    numpy-1.20.2               |   py39h7eed0ac_0         5.4 MB  conda-forge\n",
      "    oommf-2.0a1                |    h7b1db23_1002        14.5 MB  conda-forge\n",
      "    openjpeg-2.4.0             |       h6cbf5cd_0         446 KB  conda-forge\n",
      "    parso-0.8.2                |     pyhd8ed1ab_0          68 KB  conda-forge\n",
      "    pillow-8.1.2               |   py39h5fdd921_1         653 KB  conda-forge\n",
      "    pip-21.1.1                 |     pyhd8ed1ab_0         1.1 MB  conda-forge\n",
      "    pluggy-0.13.1              |   py39h6e9494a_4          29 KB  conda-forge\n",
      "    py-1.10.0                  |     pyhd3deb0d_0          73 KB  conda-forge\n",
      "    pygments-2.9.0             |     pyhd8ed1ab_0         754 KB  conda-forge\n",
      "    pyrsistent-0.17.3          |   py39hcbf5805_2          87 KB  conda-forge\n",
      "    pytest-6.2.4               |   py39h6e9494a_0         433 KB  conda-forge\n",
      "    pytest-cov-2.11.1          |     pyh44b312d_0          21 KB  conda-forge\n",
      "    python-3.9.4               |h9133fd0_0_cpython        12.6 MB  conda-forge\n",
      "    python_abi-3.9             |           1_cp39           4 KB  conda-forge\n",
      "    pyzmq-22.0.3               |   py39h7fec2f1_1         461 KB  conda-forge\n",
      "    sarge-0.1.6                |     pyh44b312d_0          20 KB  conda-forge\n",
      "    setuptools-49.6.0          |   py39h6e9494a_3         950 KB  conda-forge\n",
      "    six-1.16.0                 |     pyh6c4a22f_0          14 KB  conda-forge\n",
      "    sqlite-3.35.5              |       h44b9ce1_0         1.7 MB  conda-forge\n",
      "    terminado-0.9.4            |   py39h6e9494a_0          26 KB  conda-forge\n",
      "    toml-0.10.2                |     pyhd8ed1ab_0          18 KB  conda-forge\n",
      "    tornado-6.1                |   py39hcbf5805_1         646 KB  conda-forge\n",
      "    tzdata-2021a               |       he74cb21_0         121 KB  conda-forge\n",
      "    ------------------------------------------------------------\n",
      "                                           Total:        68.6 MB\n",
      "\n",
      "The following NEW packages will be INSTALLED:\n",
      "\n",
      "  appnope            conda-forge/osx-64::appnope-0.1.2-py39h6e9494a_1\n",
      "  argon2-cffi        conda-forge/osx-64::argon2-cffi-20.1.0-py39hcbf5805_2\n",
      "  async_generator    conda-forge/noarch::async_generator-1.10-py_0\n",
      "  attrs              conda-forge/noarch::attrs-21.2.0-pyhd8ed1ab_0\n",
      "  backcall           conda-forge/noarch::backcall-0.2.0-pyh9f0ad1d_0\n",
      "  backports          conda-forge/noarch::backports-1.0-py_2\n",
      "  backports.functoo~ conda-forge/noarch::backports.functools_lru_cache-1.6.4-pyhd8ed1ab_0\n",
      "  bleach             conda-forge/noarch::bleach-3.3.0-pyh44b312d_0\n",
      "  ca-certificates    conda-forge/osx-64::ca-certificates-2020.12.5-h033912b_0\n",
      "  certifi            conda-forge/osx-64::certifi-2020.12.5-py39h6e9494a_1\n",
      "  cffi               conda-forge/osx-64::cffi-1.14.5-py39h319c39b_0\n",
      "  coverage           conda-forge/osx-64::coverage-5.5-py39h89e85a6_0\n",
      "  cycler             conda-forge/noarch::cycler-0.10.0-py_2\n",
      "  decorator          conda-forge/noarch::decorator-5.0.7-pyhd8ed1ab_0\n",
      "  defusedxml         conda-forge/noarch::defusedxml-0.7.1-pyhd8ed1ab_0\n",
      "  entrypoints        conda-forge/noarch::entrypoints-0.3-pyhd8ed1ab_1003\n",
      "  freetype           conda-forge/osx-64::freetype-2.10.4-h4cff582_1\n",
      "  importlib-metadata conda-forge/osx-64::importlib-metadata-4.0.1-py39h6e9494a_0\n",
      "  iniconfig          conda-forge/noarch::iniconfig-1.1.1-pyh9f0ad1d_0\n",
      "  ipykernel          conda-forge/osx-64::ipykernel-5.5.4-py39h71a6800_0\n",
      "  ipython            conda-forge/osx-64::ipython-7.23.1-py39h71a6800_0\n",
      "  ipython_genutils   conda-forge/noarch::ipython_genutils-0.2.0-py_1\n",
      "  jedi               conda-forge/osx-64::jedi-0.18.0-py39h6e9494a_2\n",
      "  jinja2             conda-forge/noarch::jinja2-2.11.3-pyh44b312d_0\n",
      "  jpeg               conda-forge/osx-64::jpeg-9d-hbcb3906_0\n",
      "  jsonschema         conda-forge/noarch::jsonschema-3.2.0-pyhd8ed1ab_3\n",
      "  jupyter_client     conda-forge/noarch::jupyter_client-6.1.12-pyhd8ed1ab_0\n",
      "  jupyter_core       conda-forge/osx-64::jupyter_core-4.7.1-py39h6e9494a_0\n",
      "  jupyterlab_pygmen~ conda-forge/noarch::jupyterlab_pygments-0.1.2-pyh9f0ad1d_0\n",
      "  kiwisolver         conda-forge/osx-64::kiwisolver-1.3.1-py39hedf5dff_1\n",
      "  lcms2              conda-forge/osx-64::lcms2-2.12-h577c468_0\n",
      "  libblas            conda-forge/osx-64::libblas-3.9.0-9_openblas\n",
      "  libcblas           conda-forge/osx-64::libcblas-3.9.0-9_openblas\n",
      "  libcxx             conda-forge/osx-64::libcxx-11.1.0-habf9029_0\n",
      "  libffi             conda-forge/osx-64::libffi-3.3-h046ec9c_2\n",
      "  libgfortran        conda-forge/osx-64::libgfortran-5.0.0-9_3_0_h6c81a4c_22\n",
      "  libgfortran5       conda-forge/osx-64::libgfortran5-9.3.0-h6c81a4c_22\n",
      "  liblapack          conda-forge/osx-64::liblapack-3.9.0-9_openblas\n",
      "  libopenblas        conda-forge/osx-64::libopenblas-0.3.15-openmp_h5e1b9a4_0\n",
      "  libpng             conda-forge/osx-64::libpng-1.6.37-h7cec526_2\n",
      "  libsodium          conda-forge/osx-64::libsodium-1.0.18-hbcb3906_1\n",
      "  libtiff            conda-forge/osx-64::libtiff-4.2.0-h7c11950_1\n",
      "  libwebp-base       conda-forge/osx-64::libwebp-base-1.2.0-h0d85af4_2\n",
      "  llvm-openmp        conda-forge/osx-64::llvm-openmp-11.1.0-hda6cdc1_1\n",
      "  lz4-c              conda-forge/osx-64::lz4-c-1.9.3-h046ec9c_0\n",
      "  markupsafe         conda-forge/osx-64::markupsafe-1.1.1-py39hcbf5805_3\n",
      "  matplotlib         conda-forge/osx-64::matplotlib-3.4.2-py39h6e9494a_0\n",
      "  matplotlib-base    conda-forge/osx-64::matplotlib-base-3.4.2-py39hb07454d_0\n",
      "  matplotlib-inline  conda-forge/noarch::matplotlib-inline-0.1.2-pyhd8ed1ab_2\n",
      "  mistune            conda-forge/osx-64::mistune-0.8.4-py39hcbf5805_1003\n",
      "  more-itertools     conda-forge/noarch::more-itertools-8.7.0-pyhd8ed1ab_1\n",
      "  nbclient           conda-forge/noarch::nbclient-0.5.3-pyhd8ed1ab_0\n",
      "  nbconvert          conda-forge/osx-64::nbconvert-6.0.7-py39h6e9494a_3\n",
      "  nbformat           conda-forge/noarch::nbformat-5.1.3-pyhd8ed1ab_0\n",
      "  ncurses            conda-forge/osx-64::ncurses-6.2-h2e338ed_4\n",
      "  nest-asyncio       conda-forge/noarch::nest-asyncio-1.5.1-pyhd8ed1ab_0\n",
      "  notebook           conda-forge/noarch::notebook-6.3.0-pyha770c72_1\n",
      "  numpy              conda-forge/osx-64::numpy-1.20.2-py39h7eed0ac_0\n",
      "  olefile            conda-forge/noarch::olefile-0.46-pyh9f0ad1d_1\n",
      "  oommf              conda-forge/osx-64::oommf-2.0a1-h7b1db23_1002\n",
      "  openjpeg           conda-forge/osx-64::openjpeg-2.4.0-h6cbf5cd_0\n",
      "  openssl            conda-forge/osx-64::openssl-1.1.1k-h0d85af4_0\n",
      "  packaging          conda-forge/noarch::packaging-20.9-pyh44b312d_0\n",
      "  pandoc             conda-forge/osx-64::pandoc-2.13-h0d85af4_0\n",
      "  pandocfilters      conda-forge/noarch::pandocfilters-1.4.2-py_1\n",
      "  parso              conda-forge/noarch::parso-0.8.2-pyhd8ed1ab_0\n",
      "  pexpect            conda-forge/noarch::pexpect-4.8.0-pyh9f0ad1d_2\n",
      "  pickleshare        conda-forge/noarch::pickleshare-0.7.5-py_1003\n",
      "  pillow             conda-forge/osx-64::pillow-8.1.2-py39h5fdd921_1\n",
      "  pip                conda-forge/noarch::pip-21.1.1-pyhd8ed1ab_0\n",
      "  pluggy             conda-forge/osx-64::pluggy-0.13.1-py39h6e9494a_4\n",
      "  prometheus_client  conda-forge/noarch::prometheus_client-0.10.1-pyhd8ed1ab_0\n",
      "  prompt-toolkit     conda-forge/noarch::prompt-toolkit-3.0.18-pyha770c72_0\n",
      "  ptyprocess         conda-forge/noarch::ptyprocess-0.7.0-pyhd3deb0d_0\n",
      "  py                 conda-forge/noarch::py-1.10.0-pyhd3deb0d_0\n",
      "  pycparser          conda-forge/noarch::pycparser-2.20-pyh9f0ad1d_2\n",
      "  pygments           conda-forge/noarch::pygments-2.9.0-pyhd8ed1ab_0\n",
      "  pyparsing          conda-forge/noarch::pyparsing-2.4.7-pyh9f0ad1d_0\n",
      "  pyrsistent         conda-forge/osx-64::pyrsistent-0.17.3-py39hcbf5805_2\n",
      "  pytest             conda-forge/osx-64::pytest-6.2.4-py39h6e9494a_0\n",
      "  pytest-cov         conda-forge/noarch::pytest-cov-2.11.1-pyh44b312d_0\n",
      "  python             conda-forge/osx-64::python-3.9.4-h9133fd0_0_cpython\n",
      "  python-dateutil    conda-forge/noarch::python-dateutil-2.8.1-py_0\n",
      "  python_abi         conda-forge/osx-64::python_abi-3.9-1_cp39\n",
      "  pyzmq              conda-forge/osx-64::pyzmq-22.0.3-py39h7fec2f1_1\n",
      "  readline           conda-forge/osx-64::readline-8.1-h05e3726_0\n",
      "  sarge              conda-forge/noarch::sarge-0.1.6-pyh44b312d_0\n",
      "  send2trash         conda-forge/noarch::send2trash-1.5.0-py_0\n",
      "  setuptools         conda-forge/osx-64::setuptools-49.6.0-py39h6e9494a_3\n",
      "  six                conda-forge/noarch::six-1.16.0-pyh6c4a22f_0\n",
      "  sqlite             conda-forge/osx-64::sqlite-3.35.5-h44b9ce1_0\n",
      "  terminado          conda-forge/osx-64::terminado-0.9.4-py39h6e9494a_0\n",
      "  testpath           conda-forge/noarch::testpath-0.4.4-py_0\n",
      "  tk                 conda-forge/osx-64::tk-8.6.10-h0419947_1\n",
      "  toml               conda-forge/noarch::toml-0.10.2-pyhd8ed1ab_0\n",
      "  tornado            conda-forge/osx-64::tornado-6.1-py39hcbf5805_1\n",
      "  traitlets          conda-forge/noarch::traitlets-5.0.5-py_0\n",
      "  tzdata             conda-forge/noarch::tzdata-2021a-he74cb21_0\n",
      "  wcwidth            conda-forge/noarch::wcwidth-0.2.5-pyh9f0ad1d_2\n",
      "  webencodings       conda-forge/noarch::webencodings-0.5.1-py_1\n",
      "  wheel              conda-forge/noarch::wheel-0.36.2-pyhd3deb0d_0\n",
      "  xz                 conda-forge/osx-64::xz-5.2.5-haf1e3a3_1\n",
      "  zeromq             conda-forge/osx-64::zeromq-4.3.4-h1c7c35f_0\n",
      "  zipp               conda-forge/noarch::zipp-3.4.1-pyhd8ed1ab_0\n",
      "  zlib               conda-forge/osx-64::zlib-1.2.11-h7795811_1010\n",
      "  zstd               conda-forge/osx-64::zstd-1.4.9-h582d3a0_0\n",
      "\n",
      "\n",
      "\n",
      "Downloading and Extracting Packages\n"
     ]
    },
    {
     "name": "stdout",
     "output_type": "stream",
     "text": [
      "nbconvert-6.0.7      | 530 KB    | ##################################### | 100% \n",
      "numpy-1.20.2         | 5.4 MB    | ##################################### | 100% \n",
      "certifi-2020.12.5    | 143 KB    | ##################################### | 100% \n",
      "ipykernel-5.5.4      | 167 KB    | ##################################### | 100% \n",
      "markupsafe-1.1.1     | 25 KB     | ##################################### | 100% \n",
      "terminado-0.9.4      | 26 KB     | ##################################### | 100% \n",
      "pillow-8.1.2         | 653 KB    | ##################################### | 100% \n",
      "decorator-5.0.7      | 11 KB     | ##################################### | 100% \n",
      "libblas-3.9.0        | 11 KB     | ##################################### | 100% \n",
      "lcms2-2.12           | 404 KB    | ##################################### | 100% \n",
      "argon2-cffi-20.1.0   | 45 KB     | ##################################### | 100% \n",
      "mistune-0.8.4        | 54 KB     | ##################################### | 100% \n",
      "pyrsistent-0.17.3    | 87 KB     | ##################################### | 100% \n",
      "libcblas-3.9.0       | 11 KB     | ##################################### | 100% \n",
      "matplotlib-3.4.2     | 7 KB      | ##################################### | 100% \n",
      "appnope-0.1.2        | 10 KB     | ##################################### | 100% \n",
      "jedi-0.18.0          | 932 KB    | ##################################### | 100% \n",
      "coverage-5.5         | 257 KB    | ##################################### | 100% \n",
      "iniconfig-1.1.1      | 8 KB      | ##################################### | 100% \n",
      "setuptools-49.6.0    | 950 KB    | ##################################### | 100% \n",
      "liblapack-3.9.0      | 11 KB     | ##################################### | 100% \n",
      "attrs-21.2.0         | 44 KB     | ##################################### | 100% \n",
      "more-itertools-8.7.0 | 39 KB     | ##################################### | 100% \n",
      "backports.functools_ | 9 KB      | ##################################### | 100% \n",
      "libgfortran5-9.3.0   | 1.7 MB    | ##################################### | 100% \n",
      "libopenblas-0.3.15   | 8.7 MB    | ##################################### | 100% \n",
      "pytest-6.2.4         | 433 KB    | ##################################### | 100% \n",
      "toml-0.10.2          | 18 KB     | ##################################### | 100% \n",
      "cffi-1.14.5          | 219 KB    | ##################################### | 100% \n",
      "openjpeg-2.4.0       | 446 KB    | ##################################### | 100% \n",
      "notebook-6.3.0       | 6.1 MB    | ##################################### | 100% \n",
      "parso-0.8.2          | 68 KB     | ##################################### | 100% \n",
      "ipython-7.23.1       | 1.1 MB    | ##################################### | 100% \n",
      "jupyter_core-4.7.1   | 72 KB     | ##################################### | 100% \n",
      "importlib-metadata-4 | 30 KB     | ##################################### | 100% \n",
      "sarge-0.1.6          | 20 KB     | ##################################### | 100% \n",
      "six-1.16.0           | 14 KB     | ##################################### | 100% \n",
      "kiwisolver-1.3.1     | 59 KB     | ##################################### | 100% \n",
      "libgfortran-5.0.0    | 19 KB     | ##################################### | 100% \n",
      "tzdata-2021a         | 121 KB    | ##################################### | 100% \n",
      "pygments-2.9.0       | 754 KB    | ##################################### | 100% \n",
      "python_abi-3.9       | 4 KB      | ##################################### | 100% \n",
      "libtiff-4.2.0        | 623 KB    | ##################################### | 100% \n",
      "python-3.9.4         | 12.6 MB   | ##################################### | 100% \n",
      "pytest-cov-2.11.1    | 21 KB     | ##################################### | 100% \n",
      "matplotlib-inline-0. | 11 KB     | ##################################### | 100% \n",
      "oommf-2.0a1          | 14.5 MB   | ##################################### | 100% \n",
      "pyzmq-22.0.3         | 461 KB    | ##################################### | 100% \n",
      "pluggy-0.13.1        | 29 KB     | ##################################### | 100% \n",
      "pip-21.1.1           | 1.1 MB    | ##################################### | 100% \n",
      "matplotlib-base-3.4. | 7.2 MB    | ##################################### | 100% \n",
      "sqlite-3.35.5        | 1.7 MB    | ##################################### | 100% \n",
      "py-1.10.0            | 73 KB     | ##################################### | 100% \n",
      "tornado-6.1          | 646 KB    | ##################################### | 100% \n",
      "Preparing transaction: done\n",
      "Verifying transaction: done\n",
      "Executing transaction: done\n",
      "#\n",
      "# To activate this environment, use\n",
      "#\n",
      "#     $ conda activate ubermag-dev\n",
      "#\n",
      "# To deactivate an active environment, use\n",
      "#\n",
      "#     $ conda deactivate\n",
      "\n"
     ]
    }
   ],
   "source": [
    "!conda create -y -n ubermag-dev -c conda-forge numpy matplotlib pytest \\\n",
    " pytest-cov sarge oommf ipython notebook"
   ]
  },
  {
   "cell_type": "code",
   "execution_count": 3,
   "metadata": {},
   "outputs": [
    {
     "name": "stdout",
     "output_type": "stream",
     "text": [
      "/Users/fangohr/git/ubermag-dev/devtools\r\n"
     ]
    }
   ],
   "source": [
    "!pwd"
   ]
  },
  {
   "cell_type": "markdown",
   "metadata": {
    "collapsed": true
   },
   "source": [
    "## Create subdirectory and clone all repos into that"
   ]
  },
  {
   "cell_type": "code",
   "execution_count": 4,
   "metadata": {},
   "outputs": [],
   "source": [
    "!mkdir repos"
   ]
  },
  {
   "cell_type": "code",
   "execution_count": 5,
   "metadata": {},
   "outputs": [
    {
     "name": "stdout",
     "output_type": "stream",
     "text": [
      "/Users/fangohr/git/ubermag-dev/devtools/repos\n"
     ]
    }
   ],
   "source": [
    "cd repos"
   ]
  },
  {
   "cell_type": "code",
   "execution_count": 6,
   "metadata": {},
   "outputs": [
    {
     "name": "stdout",
     "output_type": "stream",
     "text": [
      "Cloning into 'oommfc'...\n",
      "Enter passphrase for key '/Users/fangohr/.ssh/id_rsa': \n"
     ]
    }
   ],
   "source": [
    "!source activate ubermag-dev && sh ../clone-and-install-repos.sh"
   ]
  },
  {
   "cell_type": "code",
   "execution_count": 7,
   "metadata": {},
   "outputs": [
    {
     "name": "stdout",
     "output_type": "stream",
     "text": [
      "# conda environments:\r\n",
      "#\r\n",
      "base                  *  /Users/fangohr/.pyenv/versions/anaconda3-2020.11\r\n",
      "tf2                      /Users/fangohr/.pyenv/versions/anaconda3-2020.11/envs/tf2\r\n",
      "ubermag-dev              /Users/fangohr/.pyenv/versions/anaconda3-2020.11/envs/ubermag-dev\r\n",
      "                         /usr/local/anaconda3\r\n",
      "                         /usr/local/anaconda3/envs/oscovida\r\n",
      "                         /usr/local/anaconda3/envs/wilma\r\n",
      "\r\n"
     ]
    }
   ],
   "source": [
    "!conda env list"
   ]
  },
  {
   "cell_type": "code",
   "execution_count": 8,
   "metadata": {
    "collapsed": true
   },
   "outputs": [],
   "source": [
    "!source activate ubermag-dev && python -c \"import ubermag\"   "
   ]
  },
  {
   "cell_type": "markdown",
   "metadata": {},
   "source": [
    "Ideally, we would run `ubermag.test()` here to check all works."
   ]
  },
  {
   "cell_type": "markdown",
   "metadata": {},
   "source": [
    "Shorter test:"
   ]
  },
  {
   "cell_type": "code",
   "execution_count": null,
   "metadata": {},
   "outputs": [],
   "source": [
    "!source activate ubermag-dev && python -c \"import discretisedfield as d; d.test()\""
   ]
  },
  {
   "cell_type": "markdown",
   "metadata": {},
   "source": [
    "Comprehensive test"
   ]
  },
  {
   "cell_type": "code",
   "execution_count": null,
   "metadata": {
    "collapsed": true
   },
   "outputs": [],
   "source": [
    "!source activate ubermag-dev && python -c \"import ubermag; ubermag.test()\""
   ]
  }
 ],
 "metadata": {
  "anaconda-cloud": {},
  "kernelspec": {
   "display_name": "Python 3",
   "language": "python",
   "name": "python3"
  },
  "language_info": {
   "codemirror_mode": {
    "name": "ipython",
    "version": 3
   },
   "file_extension": ".py",
   "mimetype": "text/x-python",
   "name": "python",
   "nbconvert_exporter": "python",
   "pygments_lexer": "ipython3",
   "version": "3.9.4"
  }
 },
 "nbformat": 4,
 "nbformat_minor": 1
}
